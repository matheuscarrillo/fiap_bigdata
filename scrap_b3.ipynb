{
 "cells": [
  {
   "cell_type": "code",
   "execution_count": null,
   "id": "a81d9ff8-219c-466b-9e03-0e5408b9ea0f",
   "metadata": {},
   "outputs": [],
   "source": [
    "import os\n",
    "import boto3\n",
    "from selenium import webdriver\n",
    "from selenium.webdriver.common.by import By\n",
    "import time\n",
    "import yaml\n",
    "\n",
    "config = yaml.safe_load(open('config.yaml', 'rb'))\n",
    "\n",
    "download_dir = config.get('path')\n",
    "\n",
    "options.add_argument(\"--headless\")  # Executa em modo invisível\n",
    "\n",
    "# Configurar Chrome para baixar arquivos automaticamente\n",
    "chrome_options = webdriver.ChromeOptions()\n",
    "prefs = {\n",
    "    \"download.default_directory\": download_dir,  # Define a pasta de destino\n",
    "    \"download.prompt_for_download\": False,  # Não perguntar onde salvar\n",
    "    \"download.directory_upgrade\": True,\n",
    "    \"safebrowsing.enabled\": True  # Evita bloqueio de downloads\n",
    "}\n",
    "chrome_options.add_experimental_option(\"prefs\", prefs) \n",
    "\n",
    "# options.add_argument(\"--headless\")  # Executa em modo invisível\n",
    "driver = webdriver.Chrome(options=chrome_options)\n",
    "\n",
    "driver.get(\"https://sistemaswebb3-listados.b3.com.br/indexPage/day/IBOV?language=pt-br\")\n",
    "\n",
    "# Espera o carregamento da página (pode ser ajustado)\n",
    "driver.implicitly_wait(2)\n",
    "\n",
    "# Encontrar as linhas da tabela\n",
    "driver.find_element(By.XPATH, '//*[@id=\"divContainerIframeB3\"]/div/div[1]/form/div[2]/div/div[2]/div/div/div[1]/div[2]/p/a').click()\n",
    "\n",
    "time.sleep(3)\n",
    "\n",
    "driver.quit()\n",
    "\n",
    "s3 = boto3.client(\n",
    "    \"s3\",\n",
    "    aws_access_key_id=config.get('aws_access_key_id'),\n",
    "    aws_secret_access_key=config.get('aws_secret_access_key'),\n",
    "    region_name=\"us-east-1\"  # Defina a região apropriada\n",
    ")\n",
    "\n",
    "bucket_name = config.get('bucket_name')\n",
    "\n",
    "for arquivo in os.listdir(download_dir):\n",
    "    caminho_completo = os.path.join(download_dir, arquivo)\n",
    "    # print(caminho_completo)\n",
    "    if os.path.isfile(caminho_completo):\n",
    "        s3.upload_file(caminho_completo, bucket_name, f\"data/raw/{arquivo}\")\n",
    "        print(f\"Upload de {arquivo} concluído!\")"
   ]
  },
  {
   "cell_type": "code",
   "execution_count": null,
   "id": "47c792cb-0ccf-4848-acd2-f02229c376cb",
   "metadata": {},
   "outputs": [],
   "source": []
  }
 ],
 "metadata": {
  "kernelspec": {
   "display_name": "Python 3 (ipykernel)",
   "language": "python",
   "name": "python3"
  },
  "language_info": {
   "codemirror_mode": {
    "name": "ipython",
    "version": 3
   },
   "file_extension": ".py",
   "mimetype": "text/x-python",
   "name": "python",
   "nbconvert_exporter": "python",
   "pygments_lexer": "ipython3",
   "version": "3.12.6"
  }
 },
 "nbformat": 4,
 "nbformat_minor": 5
}
